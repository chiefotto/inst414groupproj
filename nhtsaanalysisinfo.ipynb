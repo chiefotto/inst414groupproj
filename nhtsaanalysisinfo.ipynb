{
 "cells": [
  {
   "cell_type": "code",
   "execution_count": 3,
   "metadata": {},
   "outputs": [],
   "source": [
    "import requests\n",
    "import pandas as pd\n",
    "from sklearn.cluster import KMeans\n",
    "import matplotlib.pyplot as plt\n",
    "import seaborn as sns\n",
    "import json\n"
   ]
  },
  {
   "cell_type": "code",
   "execution_count": 4,
   "metadata": {},
   "outputs": [],
   "source": [
    "df_vehicles = pd.read_csv(\"vehicle_info.csv\")"
   ]
  },
  {
   "cell_type": "code",
   "execution_count": 6,
   "metadata": {},
   "outputs": [
    {
     "name": "stdout",
     "output_type": "stream",
     "text": [
      "Index(['Unnamed: 0', 'Manufacturer', 'NHTSACampaignNumber', 'parkIt',\n",
      "       'parkOutSide', 'ReportReceivedDate', 'Component', 'Summary',\n",
      "       'Consequence', 'Remedy', 'Notes', 'ModelYear', 'Make', 'Model',\n",
      "       'NHTSAActionNumber', 'VehicleDescription_x', 'VehicleId',\n",
      "       'VehicleDescription_y', 'Make_Model', 'OverallRating'],\n",
      "      dtype='object')\n"
     ]
    }
   ],
   "source": [
    "print(df_vehicles.columns)"
   ]
  }
 ],
 "metadata": {
  "kernelspec": {
   "display_name": "base",
   "language": "python",
   "name": "python3"
  },
  "language_info": {
   "codemirror_mode": {
    "name": "ipython",
    "version": 3
   },
   "file_extension": ".py",
   "mimetype": "text/x-python",
   "name": "python",
   "nbconvert_exporter": "python",
   "pygments_lexer": "ipython3",
   "version": "3.8.8"
  }
 },
 "nbformat": 4,
 "nbformat_minor": 2
}
