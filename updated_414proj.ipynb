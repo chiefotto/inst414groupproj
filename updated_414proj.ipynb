{
 "cells": [
  {
   "cell_type": "code",
   "execution_count": 1,
   "metadata": {},
   "outputs": [],
   "source": [
    "import requests\n",
    "import pandas as pd\n",
    "import matplotlib.pyplot as plt\n",
    "\n",
    "base_url = \"https://api.nhtsa.gov/SafetyRatings\"\n",
    "year = 2022\n",
    "\n",
    "car_brands = ['Ford', 'Toyota', 'Tesla', 'Chevrolet', 'Honda', 'Nissan', 'Jeep', 'Hyundai', 'Subaru', 'GMC', 'Ram', 'Volkswagen', 'BMW', 'Mercedes-Benz', 'Dodge', 'Lexus', 'Audi', 'Mazda', 'Kia', 'Buick', 'Cadillac']\n"
   ]
  },
  {
   "cell_type": "code",
   "execution_count": 2,
   "metadata": {},
   "outputs": [],
   "source": [
    "\n",
    "data = {}\n",
    "\n",
    "for make in car_brands:\n",
    "    # Fetch all models for the current make and year\n",
    "    models_url = f\"{base_url}/modelyear/{year}/make/{make}\"\n",
    "    response = requests.get(models_url)\n",
    "    models_data = response.json()\n",
    "    \n",
    "    # Extract the list of models for the current make\n",
    "    models = [model['Model'] for model in models_data['Results']]\n",
    "    \n",
    "    for model in models:\n",
    "        # Fetch safety ratings for the current model\n",
    "        safety_ratings_url = f\"{base_url}/modelyear/{year}/make/{make}/model/{model}\"\n",
    "        response = requests.get(safety_ratings_url)\n",
    "        safety_data = response.json()\n",
    "        \n",
    "        # Store the safety ratings for the current model\n",
    "        data[f\"{make} {model}\"] = safety_data['Results']\n"
   ]
  },
  {
   "cell_type": "code",
   "execution_count": 3,
   "metadata": {},
   "outputs": [],
   "source": [
    "# Flatten the nested dictionary structure\n",
    "flattened_data = []\n",
    "for make_model, attributes in data.items():\n",
    "    for item in attributes:\n",
    "        item['Make_Model'] = make_model\n",
    "        flattened_data.append(item)\n",
    "\n",
    "# Convert the flattened data to a DataFrame\n",
    "df = pd.DataFrame(flattened_data)"
   ]
  },
  {
   "cell_type": "code",
   "execution_count": 4,
   "metadata": {},
   "outputs": [],
   "source": [
    "\n",
    "alt_url = \"https://api.nhtsa.gov/SafetyRatings/VehicleId\"\n",
    "\n",
    "# Fetch overall ratings for each vehicle and add them to the DataFrame\n",
    "for index, row in df.iterrows():\n",
    "    vehicle_id = row['VehicleId']\n",
    "    response = requests.get(f\"{alt_url}/{vehicle_id}\")\n",
    "    overall_rating_data = response.json()\n",
    "    overall_rating = overall_rating_data['Results'][0]['OverallRating']\n",
    "    df.at[index, 'OverallRating'] = overall_rating\n"
   ]
  },
  {
   "cell_type": "code",
   "execution_count": 5,
   "metadata": {},
   "outputs": [],
   "source": [
    "\n",
    "# Save the DataFrame with all data including overall ratings to a CSV file\n",
    "output_csv_path = 'complete_vehicle_safety_ratings.csv'\n",
    "df.to_csv(output_csv_path, index=False)\n"
   ]
  },
  {
   "cell_type": "code",
   "execution_count": 9,
   "metadata": {},
   "outputs": [
    {
     "name": "stdout",
     "output_type": "stream",
     "text": [
      "Index(['VehicleDescription', 'VehicleId', 'Make_Model', 'OverallRating'], dtype='object')\n"
     ]
    }
   ],
   "source": []
  },
  {
   "cell_type": "code",
   "execution_count": 6,
   "metadata": {},
   "outputs": [],
   "source": [
    "import requests\n",
    "import pandas as pd\n",
    "\n",
    "def fetch_nhtsa_recall_data_for_year(year):\n",
    "    # Base URL for the NHTSA API for recall data\n",
    "    rec_url = \"https://api.nhtsa.gov/products/vehicle/recalls\"\n",
    "\n",
    "    # Define the parameters for the API request\n",
    "    params = {\n",
    "        'modelYear': year,\n",
    "    }\n",
    "\n",
    "    # Make the API request\n",
    "    response = requests.get(rec_url, params=params)\n",
    "\n",
    "    # Check for a successful response\n",
    "    if response.status_code == 200:\n",
    "        # Convert the JSON response to a DataFrame\n",
    "        return pd.DataFrame(response.json()['results'])\n",
    "    else:\n",
    "        print(f\"Failed to fetch data for year {year}: Status code {response.status_code}\")\n",
    "        return None\n",
    "\n"
   ]
  },
  {
   "cell_type": "code",
   "execution_count": 7,
   "metadata": {},
   "outputs": [
    {
     "name": "stdout",
     "output_type": "stream",
     "text": [
      "Failed to fetch data for year 2022: Status code 403\n",
      "No data fetched for year 2022.\n"
     ]
    }
   ],
   "source": [
    "# Example usage: Fetch recall data for the year 2022\n",
    "year = 2022\n",
    "recall_data = fetch_nhtsa_recall_data_for_year(year)\n",
    "\n",
    "# Check if data was fetched and display the first few rows\n",
    "if recall_data is not None:\n",
    "    print(recall_data.head())\n",
    "else:\n",
    "    print(f\"No data fetched for year {year}.\")\n"
   ]
  },
  {
   "cell_type": "code",
   "execution_count": 10,
   "metadata": {},
   "outputs": [
    {
     "name": "stdout",
     "output_type": "stream",
     "text": [
      "Safety Ratings Data:\n",
      "               VehicleDescription  VehicleId  Make         Model\n",
      "0    2022 Ford Bronco 2DR SUV 4WD      17037  Ford        BRONCO\n",
      "1    2022 Ford Bronco 4DR SUV 4WD      16331  Ford        BRONCO\n",
      "2  2022 Ford Bronco Sport SUV 4WD      16332  Ford  BRONCO SPORT\n",
      "3      2022 Ford EcoSport SUV AWD      16376  Ford      ECOSPORT\n",
      "4      2022 Ford EcoSport SUV FWD      16333  Ford      ECOSPORT\n",
      "\n",
      "Recall Data:\n",
      "         Manufacturer NHTSACampaignNumber parkIt parkOutSide  \\\n",
      "0  Ford Motor Company           22V411000  False       False   \n",
      "1  Ford Motor Company           22V451000  False       False   \n",
      "2  Ford Motor Company           22V825000  False       False   \n",
      "3  Ford Motor Company           22V928000  False       False   \n",
      "4  Ford Motor Company           23V070000  False       False   \n",
      "\n",
      "  ReportReceivedDate                                     Component  \\\n",
      "0         10/06/2022             LATCHES/LOCKS/LINKAGES:DOORS:LOCK   \n",
      "1         24/06/2022                         VISIBILITY:WINDSHIELD   \n",
      "2         03/11/2022  BACK OVER PREVENTION: SENSING SYSTEM: CAMERA   \n",
      "3         14/12/2022                   AIR BAGS:SENSOR:SIDE IMPACT   \n",
      "4         10/02/2023            POWER TRAIN:AUTOMATIC TRANSMISSION   \n",
      "\n",
      "                                             Summary  \\\n",
      "0  Ford Motor Company (Ford) is recalling certain...   \n",
      "1  Ford Motor Company (Ford) is recalling certain...   \n",
      "2  Ford Motor Company (Ford) is recalling certain...   \n",
      "3  Ford Motor Company (Ford) is recalling certain...   \n",
      "4  Ford Motor Company (Ford) is recalling certain...   \n",
      "\n",
      "                                         Consequence  \\\n",
      "0  A malfunctioning child safety lock increases t...   \n",
      "1  A windshield that separates from a vehicle dur...   \n",
      "2  A rearview image that continues to be displaye...   \n",
      "3  An improperly secured side impact sensor may c...   \n",
      "4  The inability to secure the vehicle in the par...   \n",
      "\n",
      "                                              Remedy  \\\n",
      "0  Dealers will inspect the passenger-side child ...   \n",
      "1  Dealers will remove and reinstall the windshie...   \n",
      "2  The SYNC module software will be updated by a ...   \n",
      "3  Dealers will inspect the side impact sensor at...   \n",
      "4  Dealers will inspect and, if necessary, replac...   \n",
      "\n",
      "                                               Notes ModelYear  Make   Model  \\\n",
      "0  Owners may also contact the National Highway T...      2022  Ford  BRONCO   \n",
      "1  Owners may also contact the National Highway T...      2022  Ford  BRONCO   \n",
      "2  Owners may also contact the National Highway T...      2022  Ford  BRONCO   \n",
      "3  Owners may also contact the National Highway T...      2022  Ford  BRONCO   \n",
      "4  Owners may also contact the National Highway T...      2022  Ford  BRONCO   \n",
      "\n",
      "  NHTSAActionNumber  \n",
      "0               NaN  \n",
      "1               NaN  \n",
      "2               NaN  \n",
      "3               NaN  \n",
      "4               NaN  \n"
     ]
    }
   ],
   "source": [
    "import requests\n",
    "import pandas as pd\n",
    "\n",
    "# Base URLs\n",
    "base_url_safety_ratings = \"https://api.nhtsa.gov/SafetyRatings\"\n",
    "base_url_recalls = \"https://api.nhtsa.gov/recalls/recallsByVehicle\"\n",
    "year = 2022\n",
    "\n",
    "car_brands = ['Ford', 'Toyota', 'Tesla', 'Chevrolet', 'Honda', 'Nissan', 'Jeep', 'Hyundai', 'Subaru', 'GMC', 'Ram', 'Volkswagen', 'BMW', 'Mercedes-Benz', 'Dodge', 'Lexus', 'Audi', 'Mazda', 'Kia', 'Buick', 'Cadillac', 'Lincoln']\n",
    "\n",
    "# Data structures for storing results\n",
    "safety_ratings_data = []\n",
    "recall_data = []\n",
    "\n",
    "for make in car_brands:\n",
    "    # Fetch all models for the current make and year for safety ratings\n",
    "    models_url = f\"{base_url_safety_ratings}/modelyear/{year}/make/{make}\"\n",
    "    response = requests.get(models_url)\n",
    "    models_data = response.json()\n",
    "\n",
    "    # Extract the list of models for the current make\n",
    "    models = [model['Model'] for model in models_data['Results']]\n",
    "\n",
    "    for model in models:\n",
    "        # Fetch safety ratings for the current model\n",
    "        safety_ratings_url = f\"{base_url_safety_ratings}/modelyear/{year}/make/{make}/model/{model}\"\n",
    "        response = requests.get(safety_ratings_url)\n",
    "        safety_data = response.json()\n",
    "        \n",
    "        # Store the safety ratings for the current model\n",
    "        for item in safety_data['Results']:\n",
    "            item['Make'] = make\n",
    "            item['Model'] = model\n",
    "            safety_ratings_data.append(item)\n",
    "\n",
    "        # Fetch recall data for the current make and model\n",
    "        recall_response = requests.get(base_url_recalls, params={'make': make, 'model': model, 'modelYear': year})\n",
    "        if recall_response.status_code == 200:\n",
    "            recall_results = recall_response.json()['results']\n",
    "            for recall in recall_results:\n",
    "                recall['Make'] = make\n",
    "                recall['Model'] = model\n",
    "                recall_data.append(recall)\n",
    "\n",
    "# Convert the data to DataFrames\n",
    "df_safety_ratings = pd.DataFrame(safety_ratings_data)\n",
    "df_recall_data = pd.DataFrame(recall_data)\n",
    "\n",
    "# Displaying the first few rows of each DataFrame\n",
    "print(\"Safety Ratings Data:\")\n",
    "print(df_safety_ratings.head())\n",
    "\n",
    "print(\"\\nRecall Data:\")\n",
    "print(df_recall_data.head())\n",
    "\n"
   ]
  },
  {
   "cell_type": "code",
   "execution_count": 11,
   "metadata": {},
   "outputs": [],
   "source": [
    "df_safety_recall = df_recall_data.merge(df_safety_ratings)"
   ]
  },
  {
   "cell_type": "code",
   "execution_count": 12,
   "metadata": {},
   "outputs": [],
   "source": [
    "merged_df = pd.merge(df_safety_recall, df, on='VehicleId', how='inner')\n"
   ]
  },
  {
   "cell_type": "code",
   "execution_count": 13,
   "metadata": {},
   "outputs": [
    {
     "name": "stdout",
     "output_type": "stream",
     "text": [
      "<bound method NDFrame.head of                  VehicleDescription  VehicleId         Make_Model  \\\n",
      "0      2022 Ford Bronco 2DR SUV 4WD      17037        Ford BRONCO   \n",
      "1      2022 Ford Bronco 4DR SUV 4WD      16331        Ford BRONCO   \n",
      "2    2022 Ford Bronco Sport SUV 4WD      16332  Ford BRONCO SPORT   \n",
      "3        2022 Ford EcoSport SUV AWD      16376      Ford ECOSPORT   \n",
      "4        2022 Ford EcoSport SUV FWD      16333      Ford ECOSPORT   \n",
      "..                              ...        ...                ...   \n",
      "649       2022 Cadillac XT4 SUV FWD      16077       Cadillac XT4   \n",
      "650       2022 Cadillac XT5 SUV AWD      16086       Cadillac XT5   \n",
      "651       2022 Cadillac XT5 SUV FWD      16076       Cadillac XT5   \n",
      "652       2022 Cadillac XT6 SUV AWD      16088       Cadillac XT6   \n",
      "653       2022 Cadillac XT6 SUV FWD      16078       Cadillac XT6   \n",
      "\n",
      "    OverallRating  \n",
      "0       Not Rated  \n",
      "1       Not Rated  \n",
      "2               5  \n",
      "3               4  \n",
      "4               4  \n",
      "..            ...  \n",
      "649             5  \n",
      "650             5  \n",
      "651             5  \n",
      "652             5  \n",
      "653             5  \n",
      "\n",
      "[654 rows x 4 columns]>\n"
     ]
    }
   ],
   "source": [
    "print(df.head)"
   ]
  },
  {
   "cell_type": "markdown",
   "metadata": {},
   "source": [
    "use csvs"
   ]
  },
  {
   "cell_type": "code",
   "execution_count": 14,
   "metadata": {},
   "outputs": [],
   "source": [
    "merged_df.to_csv(\"vehicle_info.csv\")"
   ]
  },
  {
   "cell_type": "code",
   "execution_count": 15,
   "metadata": {},
   "outputs": [],
   "source": [
    "merged_df.to_json(\"vehicle_info.json\")"
   ]
  },
  {
   "cell_type": "markdown",
   "metadata": {},
   "source": []
  }
 ],
 "metadata": {
  "kernelspec": {
   "display_name": "base",
   "language": "python",
   "name": "python3"
  },
  "language_info": {
   "codemirror_mode": {
    "name": "ipython",
    "version": 3
   },
   "file_extension": ".py",
   "mimetype": "text/x-python",
   "name": "python",
   "nbconvert_exporter": "python",
   "pygments_lexer": "ipython3",
   "version": "3.8.8"
  }
 },
 "nbformat": 4,
 "nbformat_minor": 2
}
